{
 "cells": [
  {
   "cell_type": "code",
   "execution_count": 1,
   "id": "ceb090dc",
   "metadata": {},
   "outputs": [],
   "source": [
    "from surprise import Dataset, Reader, KNNBasic\n",
    "from surprise.model_selection import train_test_split\n",
    "from surprise import accuracy\n",
    "import pandas as pd\n"
   ]
  },
  {
   "cell_type": "code",
   "execution_count": 2,
   "id": "f664ae51",
   "metadata": {},
   "outputs": [],
   "source": [
    "data = pd.read_csv('C:/Users/Admin/Downloads/ml-100k/merged_data.csv')\n"
   ]
  },
  {
   "cell_type": "code",
   "execution_count": 3,
   "id": "54e72f64",
   "metadata": {},
   "outputs": [],
   "source": [
    "reader = Reader(rating_scale=(1, 5))\n",
    "surprise_data = Dataset.load_from_df(data[[\"user_id\", \"item_id\", \"rating\"]], reader)\n"
   ]
  },
  {
   "cell_type": "code",
   "execution_count": 4,
   "id": "2899c73b",
   "metadata": {},
   "outputs": [],
   "source": [
    "trainset, testset = train_test_split(surprise_data, test_size=0.25, random_state=42)\n"
   ]
  },
  {
   "cell_type": "code",
   "execution_count": 5,
   "id": "d369ce81",
   "metadata": {},
   "outputs": [
    {
     "name": "stdout",
     "output_type": "stream",
     "text": [
      "Computing the cosine similarity matrix...\n",
      "Done computing similarity matrix.\n"
     ]
    },
    {
     "data": {
      "text/plain": [
       "<surprise.prediction_algorithms.knns.KNNBasic at 0x1ddb86bac50>"
      ]
     },
     "execution_count": 5,
     "metadata": {},
     "output_type": "execute_result"
    }
   ],
   "source": [
    "sim_options = {\n",
    "    \"name\": \"cosine\",\n",
    "    \"user_based\": False\n",
    "}\n",
    "\n",
    "model = KNNBasic(sim_options=sim_options)\n",
    "model.fit(trainset)\n"
   ]
  },
  {
   "cell_type": "code",
   "execution_count": 6,
   "id": "d137e66d",
   "metadata": {},
   "outputs": [],
   "source": [
    "predictions = model.test(testset)\n"
   ]
  },
  {
   "cell_type": "code",
   "execution_count": 7,
   "id": "ddd70732",
   "metadata": {},
   "outputs": [
    {
     "name": "stdout",
     "output_type": "stream",
     "text": [
      "RMSE: 1.0321\n"
     ]
    }
   ],
   "source": [
    "rmse = accuracy.rmse(predictions)\n"
   ]
  },
  {
   "cell_type": "code",
   "execution_count": 8,
   "id": "46ee4c2b",
   "metadata": {},
   "outputs": [
    {
     "data": {
      "text/plain": [
       "[Prediction(uid=391, iid=591, r_ui=4.0, est=3.8010554567440296, details={'actual_k': 40, 'was_impossible': False}),\n",
       " Prediction(uid=181, iid=1291, r_ui=1.0, est=1.575, details={'actual_k': 40, 'was_impossible': False}),\n",
       " Prediction(uid=637, iid=268, r_ui=2.0, est=2.578661267671375, details={'actual_k': 40, 'was_impossible': False}),\n",
       " Prediction(uid=332, iid=451, r_ui=5.0, est=4.218539848773929, details={'actual_k': 40, 'was_impossible': False}),\n",
       " Prediction(uid=271, iid=204, r_ui=4.0, est=3.8747323580353688, details={'actual_k': 40, 'was_impossible': False})]"
      ]
     },
     "execution_count": 8,
     "metadata": {},
     "output_type": "execute_result"
    }
   ],
   "source": [
    "predictions[:5]\n"
   ]
  }
 ],
 "metadata": {
  "kernelspec": {
   "display_name": "Python 3",
   "language": "python",
   "name": "python3"
  },
  "language_info": {
   "codemirror_mode": {
    "name": "ipython",
    "version": 3
   },
   "file_extension": ".py",
   "mimetype": "text/x-python",
   "name": "python",
   "nbconvert_exporter": "python",
   "pygments_lexer": "ipython3",
   "version": "3.10.9"
  }
 },
 "nbformat": 4,
 "nbformat_minor": 5
}
